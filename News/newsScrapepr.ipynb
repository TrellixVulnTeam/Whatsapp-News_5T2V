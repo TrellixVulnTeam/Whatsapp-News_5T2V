{
 "metadata": {
  "language_info": {
   "codemirror_mode": {
    "name": "ipython",
    "version": 3
   },
   "file_extension": ".py",
   "mimetype": "text/x-python",
   "name": "python",
   "nbconvert_exporter": "python",
   "pygments_lexer": "ipython3",
   "version": "3.8.5-final"
  },
  "orig_nbformat": 2,
  "kernelspec": {
   "name": "python3",
   "display_name": "Python 3.8.5 64-bit ('venv')",
   "metadata": {
    "interpreter": {
     "hash": "78c42c24db3f5b08caadf1b08995832a897210f27160fbc39ee3b333abc9ed15"
    }
   }
  }
 },
 "nbformat": 4,
 "nbformat_minor": 2,
 "cells": [
  {
   "cell_type": "code",
   "execution_count": 1,
   "metadata": {},
   "outputs": [],
   "source": [
    "import time"
   ]
  },
  {
   "cell_type": "code",
   "execution_count": 2,
   "metadata": {},
   "outputs": [
    {
     "output_type": "execute_result",
     "data": {
      "text/plain": [
       "time.struct_time(tm_year=2020, tm_mon=12, tm_mday=10, tm_hour=13, tm_min=59, tm_sec=20, tm_wday=3, tm_yday=345, tm_isdst=0)"
      ]
     },
     "metadata": {},
     "execution_count": 2
    }
   ],
   "source": [
    "time.localtime(time.time())"
   ]
  },
  {
   "cell_type": "code",
   "execution_count": 3,
   "metadata": {},
   "outputs": [],
   "source": [
    "mn = time.localtime(time.time()).tm_mon\n",
    "\n",
    "if(mn==1):\n",
    "    mon = \"jan\"\n",
    "\n",
    "elif(mn==2):\n",
    "    mon = \"feb\"\n",
    "\n",
    "elif(mn==3):\n",
    "    mon = \"mar\"\n",
    "\n",
    "elif(mn==4):\n",
    "    mon = \"apr\"\n",
    "\n",
    "elif(mn==5):\n",
    "    mon = \"may\"\n",
    "\n",
    "elif(mn==6):\n",
    "    mon = \"jun\"\n",
    "\n",
    "elif(mn==7):\n",
    "    mon = \"jul\"\n",
    "\n",
    "elif(mn==8):\n",
    "    mon = \"aug\"\n",
    "\n",
    "elif(mn==9):\n",
    "    mon = \"sep\"\n",
    "\n",
    "elif(mn==10):\n",
    "    mon = \"oct\"\n",
    "\n",
    "elif(mn==11):\n",
    "    mon = \"nov\"\n",
    "\n",
    "elif(mn==12):\n",
    "    mon = \"dec\""
   ]
  },
  {
   "cell_type": "code",
   "execution_count": 4,
   "metadata": {},
   "outputs": [
    {
     "output_type": "execute_result",
     "data": {
      "text/plain": [
       "'dec'"
      ]
     },
     "metadata": {},
     "execution_count": 4
    }
   ],
   "source": [
    "mon"
   ]
  },
  {
   "cell_type": "code",
   "execution_count": 5,
   "metadata": {},
   "outputs": [
    {
     "output_type": "execute_result",
     "data": {
      "text/plain": [
       "2020"
      ]
     },
     "metadata": {},
     "execution_count": 5
    }
   ],
   "source": [
    "year = time.localtime(time.time()).tm_year\n",
    "year"
   ]
  },
  {
   "cell_type": "code",
   "execution_count": 6,
   "metadata": {},
   "outputs": [
    {
     "output_type": "execute_result",
     "data": {
      "text/plain": [
       "10"
      ]
     },
     "metadata": {},
     "execution_count": 6
    }
   ],
   "source": [
    "date = time.localtime(time.time()).tm_mday\n",
    "date"
   ]
  },
  {
   "cell_type": "code",
   "execution_count": 7,
   "metadata": {},
   "outputs": [
    {
     "output_type": "execute_result",
     "data": {
      "text/plain": [
       "bs4.BeautifulSoup"
      ]
     },
     "metadata": {},
     "execution_count": 7
    }
   ],
   "source": [
    "from bs4 import BeautifulSoup\n",
    "BeautifulSoup"
   ]
  },
  {
   "cell_type": "code",
   "execution_count": 8,
   "metadata": {},
   "outputs": [
    {
     "output_type": "execute_result",
     "data": {
      "text/plain": [
       "15"
      ]
     },
     "metadata": {},
     "execution_count": 8
    }
   ],
   "source": [
    "from bs4 import BeautifulSoup as BS\n",
    "\n",
    "import requests\n",
    "page = requests.get(\"https://epaper.dailyexcelsior.com/\")\n",
    "\n",
    "pageCount=15\n",
    "if(page.status_code==200):\n",
    "    soup = BS(page.content, 'html.parser')\n",
    "    s = soup.find('div', id=\"scroller\")\n",
    "    pageCount=len(s.select('ul', class_='epapertest')[0].select('li'))\n",
    "\n",
    "pageCount"
   ]
  },
  {
   "cell_type": "code",
   "execution_count": 9,
   "metadata": {},
   "outputs": [
    {
     "output_type": "execute_result",
     "data": {
      "text/plain": [
       "<Response [200]>"
      ]
     },
     "metadata": {},
     "execution_count": 9
    }
   ],
   "source": [
    "page"
   ]
  },
  {
   "cell_type": "code",
   "execution_count": 10,
   "metadata": {},
   "outputs": [
    {
     "output_type": "stream",
     "name": "stdout",
     "text": [
      "https://epaper.dailyexcelsior.com/epaperpdf/2020/dec/20dec10/page1.pdf\n",
      "https://epaper.dailyexcelsior.com/epaperpdf/2020/dec/20dec10/page2.pdf\n",
      "https://epaper.dailyexcelsior.com/epaperpdf/2020/dec/20dec10/page3.pdf\n",
      "https://epaper.dailyexcelsior.com/epaperpdf/2020/dec/20dec10/page4.pdf\n",
      "https://epaper.dailyexcelsior.com/epaperpdf/2020/dec/20dec10/page5.pdf\n",
      "https://epaper.dailyexcelsior.com/epaperpdf/2020/dec/20dec10/page6.pdf\n",
      "https://epaper.dailyexcelsior.com/epaperpdf/2020/dec/20dec10/page7.pdf\n",
      "https://epaper.dailyexcelsior.com/epaperpdf/2020/dec/20dec10/page8.pdf\n",
      "https://epaper.dailyexcelsior.com/epaperpdf/2020/dec/20dec10/page9.pdf\n",
      "https://epaper.dailyexcelsior.com/epaperpdf/2020/dec/20dec10/page10.pdf\n",
      "https://epaper.dailyexcelsior.com/epaperpdf/2020/dec/20dec10/page11.pdf\n",
      "https://epaper.dailyexcelsior.com/epaperpdf/2020/dec/20dec10/page12.pdf\n",
      "https://epaper.dailyexcelsior.com/epaperpdf/2020/dec/20dec10/page13.pdf\n",
      "https://epaper.dailyexcelsior.com/epaperpdf/2020/dec/20dec10/page14.pdf\n"
     ]
    }
   ],
   "source": [
    "for i in range(1, pageCount):\n",
    "    url = '''https://epaper.dailyexcelsior.com/epaperpdf/{}/{}/{}{}{}/page{}.pdf'''.format(year, mon, str(year)[:2], mon, str(date).zfill(2), i)\n",
    "    print(url)\n",
    "    r = requests.get(url)\n",
    "    f = open(\"temp/{}.pdf\".format(i), \"wb\")\n",
    "    f.write(r.content)\n",
    "    f.close()\n",
    "    time.sleep(1)"
   ]
  },
  {
   "cell_type": "code",
   "execution_count": 11,
   "metadata": {},
   "outputs": [],
   "source": [
    "from PyPDF2 import PdfFileMerger"
   ]
  },
  {
   "cell_type": "code",
   "execution_count": 12,
   "metadata": {},
   "outputs": [],
   "source": [
    "import os"
   ]
  },
  {
   "cell_type": "code",
   "execution_count": 22,
   "metadata": {},
   "outputs": [
    {
     "output_type": "execute_result",
     "data": {
      "text/plain": [
       "{'1.pdf',\n",
       " '10.pdf',\n",
       " '11.pdf',\n",
       " '12.pdf',\n",
       " '13.pdf',\n",
       " '14.pdf',\n",
       " '2.pdf',\n",
       " '3.pdf',\n",
       " '4.pdf',\n",
       " '5.pdf',\n",
       " '6.pdf',\n",
       " '7.pdf',\n",
       " '8.pdf',\n",
       " '9.pdf'}"
      ]
     },
     "metadata": {},
     "execution_count": 22
    }
   ],
   "source": [
    "set(os.listdir(\"temp/\"))"
   ]
  },
  {
   "cell_type": "code",
   "execution_count": 34,
   "metadata": {},
   "outputs": [],
   "source": [
    "pdfs = set()\n",
    "\n",
    "for element in os.listdir(\"temp/\"):\n",
    "    pdfs.add(int(element.split(\".\")[0]))\n",
    "\n",
    "pdfs = [str(i)+\".pdf\" for i in list(pdfs)]"
   ]
  },
  {
   "cell_type": "code",
   "execution_count": 41,
   "metadata": {},
   "outputs": [],
   "source": [
    "merger = PdfFileMerger()\n",
    "\n",
    "for pdf in pdfs:\n",
    "    merger.append(\"temp/\" + pdf)\n",
    "\n",
    "merger.write(\"temp/result.pdf\")\n",
    "merger.close()"
   ]
  },
  {
   "cell_type": "code",
   "execution_count": 40,
   "metadata": {},
   "outputs": [
    {
     "output_type": "execute_result",
     "data": {
      "text/plain": [
       "<PyPDF2.merger.PdfFileMerger at 0x7f43e129c128>"
      ]
     },
     "metadata": {},
     "execution_count": 40
    }
   ],
   "source": [
    "merger"
   ]
  },
  {
   "cell_type": "code",
   "execution_count": null,
   "metadata": {},
   "outputs": [],
   "source": []
  },
  {
   "cell_type": "code",
   "execution_count": null,
   "metadata": {},
   "outputs": [],
   "source": []
  },
  {
   "cell_type": "code",
   "execution_count": 18,
   "metadata": {},
   "outputs": [
    {
     "output_type": "execute_result",
     "data": {
      "text/plain": [
       "14"
      ]
     },
     "metadata": {},
     "execution_count": 18
    }
   ],
   "source": [
    "url = '''https://epaper.dailyexcelsior.com/epaperpdf/2020/dec/20dec10/page1.pdf'''\n",
    "\n"
   ]
  },
  {
   "cell_type": "code",
   "execution_count": null,
   "metadata": {},
   "outputs": [],
   "source": [
    "output"
   ]
  },
  {
   "cell_type": "code",
   "execution_count": null,
   "metadata": {},
   "outputs": [],
   "source": []
  },
  {
   "cell_type": "code",
   "execution_count": null,
   "metadata": {},
   "outputs": [],
   "source": []
  },
  {
   "cell_type": "code",
   "execution_count": 39,
   "metadata": {},
   "outputs": [
    {
     "output_type": "execute_result",
     "data": {
      "text/plain": [
       "6741633"
      ]
     },
     "metadata": {},
     "execution_count": 39
    }
   ],
   "source": [
    "len(output)"
   ]
  },
  {
   "cell_type": "code",
   "execution_count": 45,
   "metadata": {},
   "outputs": [
    {
     "output_type": "execute_result",
     "data": {
      "text/plain": [
       "105"
      ]
     },
     "metadata": {},
     "execution_count": 45
    }
   ],
   "source": [
    "output[958588]"
   ]
  },
  {
   "cell_type": "code",
   "execution_count": null,
   "metadata": {},
   "outputs": [],
   "source": []
  },
  {
   "cell_type": "code",
   "execution_count": 40,
   "metadata": {},
   "outputs": [
    {
     "output_type": "execute_result",
     "data": {
      "text/plain": [
       "958587"
      ]
     },
     "metadata": {},
     "execution_count": 40
    }
   ],
   "source": [
    "len(r.content)"
   ]
  },
  {
   "cell_type": "code",
   "execution_count": 10,
   "metadata": {},
   "outputs": [
    {
     "output_type": "execute_result",
     "data": {
      "text/plain": [
       "<Response [200]>"
      ]
     },
     "metadata": {},
     "execution_count": 10
    }
   ],
   "source": [
    "url = 'https://epaper.dailyexcelsior.com/epaperpdf/2020/dec/20dec10/page1.pdf'\n",
    "r = requests.get(url, stream=True)\n",
    "\n",
    "r"
   ]
  },
  {
   "cell_type": "code",
   "execution_count": 17,
   "metadata": {},
   "outputs": [],
   "source": [
    "f = open(\"sample.pdf\",\"wb\")\n",
    "f.write(r.content)\n",
    "f.close()\n",
    "\n",
    "#r.content"
   ]
  },
  {
   "cell_type": "code",
   "execution_count": 33,
   "metadata": {},
   "outputs": [
    {
     "output_type": "error",
     "ename": "AttributeError",
     "evalue": "'bytes' object has no attribute 'append'",
     "traceback": [
      "\u001b[0;31m---------------------------------------------------------------------------\u001b[0m",
      "\u001b[0;31mAttributeError\u001b[0m                            Traceback (most recent call last)",
      "\u001b[0;32m<ipython-input-33-95d6587b66d1>\u001b[0m in \u001b[0;36m<module>\u001b[0;34m\u001b[0m\n\u001b[1;32m     14\u001b[0m \u001b[0;34m\u001b[0m\u001b[0m\n\u001b[1;32m     15\u001b[0m \u001b[0mr\u001b[0m \u001b[0;34m=\u001b[0m \u001b[0mr1\u001b[0m\u001b[0;34m.\u001b[0m\u001b[0mcontent\u001b[0m\u001b[0;34m\u001b[0m\u001b[0;34m\u001b[0m\u001b[0m\n\u001b[0;32m---> 16\u001b[0;31m \u001b[0mr\u001b[0m\u001b[0;34m.\u001b[0m\u001b[0mappend\u001b[0m\u001b[0;34m(\u001b[0m\u001b[0mr2\u001b[0m\u001b[0;34m.\u001b[0m\u001b[0mcontent\u001b[0m\u001b[0;34m)\u001b[0m\u001b[0;34m\u001b[0m\u001b[0;34m\u001b[0m\u001b[0m\n\u001b[0m\u001b[1;32m     17\u001b[0m \u001b[0;34m\u001b[0m\u001b[0m\n\u001b[1;32m     18\u001b[0m \u001b[0mf\u001b[0m \u001b[0;34m=\u001b[0m \u001b[0mopen\u001b[0m\u001b[0;34m(\u001b[0m\u001b[0;34m\"sample.pdf\"\u001b[0m\u001b[0;34m,\u001b[0m\u001b[0;34m\"wb\"\u001b[0m\u001b[0;34m)\u001b[0m\u001b[0;34m\u001b[0m\u001b[0;34m\u001b[0m\u001b[0m\n",
      "\u001b[0;31mAttributeError\u001b[0m: 'bytes' object has no attribute 'append'"
     ]
    }
   ],
   "source": [
    "import PyPDF2\n",
    "\n",
    "pdfMerger = PyPDF2.PdfFileMerger()\n",
    "\n",
    "url = 'https://epaper.dailyexcelsior.com/epaperpdf/2020/dec/20dec10/page1.pdf'\n",
    "r1 = requests.get(url, stream=True)\n",
    "\n",
    "url = 'https://epaper.dailyexcelsior.com/epaperpdf/2020/dec/20dec10/page2.pdf'\n",
    "r2 = requests.get(url, stream=True)\n",
    "\n",
    "# pdfMerger.append(r1.content)\n",
    "# pdfMerger.append(r2.content)\n",
    "# \n",
    "\n",
    "r = r1.content\n",
    "r.append(r2.content)\n",
    "\n",
    "f = open(\"sample.pdf\",\"wb\")\n",
    "f.write(r)\n",
    "f.close()\n",
    "\n",
    "# with open(\"sample.pdf\", 'wb') as f:\n",
    "#     pdfMerger.write(f)"
   ]
  },
  {
   "cell_type": "code",
   "execution_count": 35,
   "metadata": {},
   "outputs": [
    {
     "output_type": "error",
     "ename": "TypeError",
     "evalue": "byte indices must be integers or slices, not str",
     "traceback": [
      "\u001b[0;31m---------------------------------------------------------------------------\u001b[0m",
      "\u001b[0;31mTypeError\u001b[0m                                 Traceback (most recent call last)",
      "\u001b[0;32m<ipython-input-35-98fac2d6426c>\u001b[0m in \u001b[0;36m<module>\u001b[0;34m\u001b[0m\n\u001b[1;32m      5\u001b[0m \u001b[0mpdfTwo\u001b[0m \u001b[0;34m=\u001b[0m \u001b[0mr2\u001b[0m\u001b[0;34m.\u001b[0m\u001b[0mcontent\u001b[0m\u001b[0;31m#PdfFileReader(file(\"some\\other\\path\\to\\a\\PDf\", \"rb\"))\u001b[0m\u001b[0;34m\u001b[0m\u001b[0;34m\u001b[0m\u001b[0m\n\u001b[1;32m      6\u001b[0m \u001b[0;34m\u001b[0m\u001b[0m\n\u001b[0;32m----> 7\u001b[0;31m \u001b[0moutput\u001b[0m\u001b[0;34m.\u001b[0m\u001b[0maddPage\u001b[0m\u001b[0;34m(\u001b[0m\u001b[0mpdfOne\u001b[0m\u001b[0;34m)\u001b[0m\u001b[0;31m#.getPage(0))\u001b[0m\u001b[0;34m\u001b[0m\u001b[0;34m\u001b[0m\u001b[0m\n\u001b[0m\u001b[1;32m      8\u001b[0m \u001b[0moutput\u001b[0m\u001b[0;34m.\u001b[0m\u001b[0maddPage\u001b[0m\u001b[0;34m(\u001b[0m\u001b[0mpdfTwo\u001b[0m\u001b[0;34m)\u001b[0m\u001b[0;31m#.getPage(0))\u001b[0m\u001b[0;34m\u001b[0m\u001b[0;34m\u001b[0m\u001b[0m\n\u001b[1;32m      9\u001b[0m \u001b[0;34m\u001b[0m\u001b[0m\n",
      "\u001b[0;32m~/anaconda3/lib/python3.7/site-packages/PyPDF2/pdf.py\u001b[0m in \u001b[0;36maddPage\u001b[0;34m(self, page)\u001b[0m\n\u001b[1;32m    136\u001b[0m             \u001b[0man\u001b[0m \u001b[0minstance\u001b[0m \u001b[0mof\u001b[0m \u001b[0;34m:\u001b[0m\u001b[0;32mclass\u001b[0m\u001b[0;34m:\u001b[0m\u001b[0;31m`\u001b[0m\u001b[0mPageObject\u001b[0m\u001b[0;34m<\u001b[0m\u001b[0mPyPDF2\u001b[0m\u001b[0;34m.\u001b[0m\u001b[0mpdf\u001b[0m\u001b[0;34m.\u001b[0m\u001b[0mPageObject\u001b[0m\u001b[0;34m>\u001b[0m\u001b[0;31m`\u001b[0m\u001b[0;34m\u001b[0m\u001b[0;34m\u001b[0m\u001b[0m\n\u001b[1;32m    137\u001b[0m         \"\"\"\n\u001b[0;32m--> 138\u001b[0;31m         \u001b[0mself\u001b[0m\u001b[0;34m.\u001b[0m\u001b[0m_addPage\u001b[0m\u001b[0;34m(\u001b[0m\u001b[0mpage\u001b[0m\u001b[0;34m,\u001b[0m \u001b[0mlist\u001b[0m\u001b[0;34m.\u001b[0m\u001b[0mappend\u001b[0m\u001b[0;34m)\u001b[0m\u001b[0;34m\u001b[0m\u001b[0;34m\u001b[0m\u001b[0m\n\u001b[0m\u001b[1;32m    139\u001b[0m \u001b[0;34m\u001b[0m\u001b[0m\n\u001b[1;32m    140\u001b[0m     \u001b[0;32mdef\u001b[0m \u001b[0minsertPage\u001b[0m\u001b[0;34m(\u001b[0m\u001b[0mself\u001b[0m\u001b[0;34m,\u001b[0m \u001b[0mpage\u001b[0m\u001b[0;34m,\u001b[0m \u001b[0mindex\u001b[0m\u001b[0;34m=\u001b[0m\u001b[0;36m0\u001b[0m\u001b[0;34m)\u001b[0m\u001b[0;34m:\u001b[0m\u001b[0;34m\u001b[0m\u001b[0;34m\u001b[0m\u001b[0m\n",
      "\u001b[0;32m~/anaconda3/lib/python3.7/site-packages/PyPDF2/pdf.py\u001b[0m in \u001b[0;36m_addPage\u001b[0;34m(self, page, action)\u001b[0m\n\u001b[1;32m    121\u001b[0m \u001b[0;34m\u001b[0m\u001b[0m\n\u001b[1;32m    122\u001b[0m     \u001b[0;32mdef\u001b[0m \u001b[0m_addPage\u001b[0m\u001b[0;34m(\u001b[0m\u001b[0mself\u001b[0m\u001b[0;34m,\u001b[0m \u001b[0mpage\u001b[0m\u001b[0;34m,\u001b[0m \u001b[0maction\u001b[0m\u001b[0;34m)\u001b[0m\u001b[0;34m:\u001b[0m\u001b[0;34m\u001b[0m\u001b[0;34m\u001b[0m\u001b[0m\n\u001b[0;32m--> 123\u001b[0;31m         \u001b[0;32massert\u001b[0m \u001b[0mpage\u001b[0m\u001b[0;34m[\u001b[0m\u001b[0;34m\"/Type\"\u001b[0m\u001b[0;34m]\u001b[0m \u001b[0;34m==\u001b[0m \u001b[0;34m\"/Page\"\u001b[0m\u001b[0;34m\u001b[0m\u001b[0;34m\u001b[0m\u001b[0m\n\u001b[0m\u001b[1;32m    124\u001b[0m         \u001b[0mpage\u001b[0m\u001b[0;34m[\u001b[0m\u001b[0mNameObject\u001b[0m\u001b[0;34m(\u001b[0m\u001b[0;34m\"/Parent\"\u001b[0m\u001b[0;34m)\u001b[0m\u001b[0;34m]\u001b[0m \u001b[0;34m=\u001b[0m \u001b[0mself\u001b[0m\u001b[0;34m.\u001b[0m\u001b[0m_pages\u001b[0m\u001b[0;34m\u001b[0m\u001b[0;34m\u001b[0m\u001b[0m\n\u001b[1;32m    125\u001b[0m         \u001b[0mpage\u001b[0m \u001b[0;34m=\u001b[0m \u001b[0mself\u001b[0m\u001b[0;34m.\u001b[0m\u001b[0m_addObject\u001b[0m\u001b[0;34m(\u001b[0m\u001b[0mpage\u001b[0m\u001b[0;34m)\u001b[0m\u001b[0;34m\u001b[0m\u001b[0;34m\u001b[0m\u001b[0m\n",
      "\u001b[0;31mTypeError\u001b[0m: byte indices must be integers or slices, not str"
     ]
    }
   ],
   "source": [
    "from PyPDF2 import PdfFileReader, PdfFileWriter\n",
    "    \n",
    "output = PdfFileWriter()\n",
    "pdfOne = r1.content#PdfFileReader(file( \"some\\path\\to\\a\\PDf\", \"rb\"))\n",
    "pdfTwo = r2.content#PdfFileReader(file(\"some\\other\\path\\to\\a\\PDf\", \"rb\"))\n",
    "    \n",
    "output.addPage(pdfOne)#.getPage(0))\n",
    "output.addPage(pdfTwo)#.getPage(0))\n",
    "\n",
    "outputStream = file(r\"output.pdf\", \"wb\")\n",
    "output.write(outputStream)\n",
    "outputStream.close()"
   ]
  },
  {
   "cell_type": "code",
   "execution_count": null,
   "metadata": {},
   "outputs": [],
   "source": []
  },
  {
   "cell_type": "code",
   "execution_count": null,
   "metadata": {},
   "outputs": [],
   "source": []
  },
  {
   "cell_type": "code",
   "execution_count": 31,
   "metadata": {},
   "outputs": [
    {
     "output_type": "execute_result",
     "data": {
      "text/plain": [
       "bytes"
      ]
     },
     "metadata": {},
     "execution_count": 31
    }
   ],
   "source": [
    "type(r1.content)"
   ]
  },
  {
   "cell_type": "code",
   "execution_count": null,
   "metadata": {},
   "outputs": [],
   "source": []
  },
  {
   "cell_type": "code",
   "execution_count": null,
   "metadata": {},
   "outputs": [],
   "source": []
  }
 ]
}